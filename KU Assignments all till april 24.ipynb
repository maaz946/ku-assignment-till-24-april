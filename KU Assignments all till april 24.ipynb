{
 "cells": [
  {
   "cell_type": "markdown",
   "id": "64ccc77d",
   "metadata": {},
   "source": [
    "# Completed assignments below\n",
    "## 1) Practicing Conditional Statement\n",
    "## 2) Practicing For loop\n",
    "## 3) Practicing while loop"
   ]
  },
  {
   "cell_type": "markdown",
   "id": "5cbb0557",
   "metadata": {},
   "source": [
    "#  Practicing Conditional Statement"
   ]
  },
  {
   "cell_type": "markdown",
   "id": "2fe59cfe",
   "metadata": {},
   "source": [
    "1- Ask the user to enter a number between 10 and 20 (inclusive). If they enter a number within this range, display the message “Thank you”, otherwise display the message “Incorrect answer”.\n",
    "\n",
    "2- Ask for two numbers. If the first one is larger than the second, display the second number first and then the first number, otherwise, show the first number first and then the second."
   ]
  },
  {
   "cell_type": "code",
   "execution_count": 2,
   "id": "5b7d2b6b",
   "metadata": {},
   "outputs": [
    {
     "name": "stdout",
     "output_type": "stream",
     "text": [
      "enter number between 10 and 20 15\n",
      "Thank you\n"
     ]
    }
   ],
   "source": [
    "# Q1\n",
    "num1=int(input(\"enter number between 10 and 20 \"))\n",
    "if num1>10 & num1<20:\n",
    "    print(\"Thank you\")\n",
    "else:\n",
    "    print('Incorrect Answer')\n",
    "    \n"
   ]
  },
  {
   "cell_type": "code",
   "execution_count": 3,
   "id": "02bc7511",
   "metadata": {},
   "outputs": [
    {
     "name": "stdout",
     "output_type": "stream",
     "text": [
      "enter number 1 4\n",
      "enter number 2 2\n",
      "display num2  2\n",
      "display num1  4\n"
     ]
    }
   ],
   "source": [
    "#Q2\n",
    "\n",
    "num1=int(input(\"enter number 1 \"))\n",
    "num2=int(input(\"enter number 2 \"))\n",
    "if num1>num2:\n",
    "    print('display num2 ',num2)\n",
    "    print('display num1 ',num1)\n",
    "else:\n",
    "    print('display num1 ',num1)\n",
    "    print('display num2 ',num2)\n",
    "    "
   ]
  },
  {
   "cell_type": "markdown",
   "id": "d24e7e71",
   "metadata": {},
   "source": [
    "# Practicing For Loop"
   ]
  },
  {
   "cell_type": "markdown",
   "id": "9aa788f8",
   "metadata": {},
   "source": [
    "1- Ask the user to enter their name and then display their name three times.\n",
    "\n",
    "2- Ask the user to enter their name and display each letter in their name on a separate line.\n",
    "\n",
    "3- Set a variable called total to 0. Ask the user to enter five numbers and after each input ask them if they want that number included. If they do, then add the number to the total. If they do not want it included, don’t add it to the total. After they have entered all five numbers, display the total.\n",
    "\n",
    "4- Ask how many people the user wants to invite to a party. If they enter a number below 10, ask for the names and after each name display “[name] has been invited”. If they enter a number that is 10 or higher, display the message “Too many people”."
   ]
  },
  {
   "cell_type": "code",
   "execution_count": 4,
   "id": "71e39559",
   "metadata": {},
   "outputs": [
    {
     "name": "stdout",
     "output_type": "stream",
     "text": [
      "enter nameali\n",
      "ali\n",
      "ali\n",
      "ali\n"
     ]
    }
   ],
   "source": [
    "#Q1\n",
    "name=input('enter name')\n",
    "for i in range(3):\n",
    "    print(name)"
   ]
  },
  {
   "cell_type": "code",
   "execution_count": 7,
   "id": "8093f64d",
   "metadata": {},
   "outputs": [
    {
     "name": "stdout",
     "output_type": "stream",
     "text": [
      "enter nameali\n",
      "a\n",
      "\n",
      "l\n",
      "\n",
      "i\n",
      "\n"
     ]
    }
   ],
   "source": [
    "#Q2\n",
    "name=input('enter name')\n",
    "for i in name:\n",
    "    print(i)\n",
    "    print()"
   ]
  },
  {
   "cell_type": "code",
   "execution_count": 12,
   "id": "3a8e41ef",
   "metadata": {},
   "outputs": [
    {
     "name": "stdout",
     "output_type": "stream",
     "text": [
      "enter number  33\n",
      "enter Y to add and N for Non\n",
      "enter number  66\n",
      "enter Y to add and N for Non\n",
      "enter number  87\n",
      "enter Y to add and N for Noy\n",
      "enter number  13\n",
      "enter Y to add and N for Noy\n",
      "enter number  12\n",
      "enter Y to add and N for Noy\n",
      "value of a is  112\n"
     ]
    }
   ],
   "source": [
    "#Q3\n",
    "a=0\n",
    "for i in range(5):\n",
    "    num=int(input(\"enter number  \"))\n",
    "    z=input('enter Y to add and N for No').lower()\n",
    "    if z=='y':\n",
    "        a=a+num\n",
    "    else:\n",
    "        pass\n",
    "print('value of a is ',a)\n",
    "    "
   ]
  },
  {
   "cell_type": "code",
   "execution_count": 17,
   "id": "f3a8fa3e",
   "metadata": {},
   "outputs": [
    {
     "name": "stdout",
     "output_type": "stream",
     "text": [
      "enter number  3\n",
      "enter name: maaz\n",
      "enter name: saad\n",
      "enter name: uzair\n",
      "\n",
      "maaz has been invited\n",
      "\n",
      "saad has been invited\n",
      "\n",
      "uzair has been invited\n"
     ]
    }
   ],
   "source": [
    "#Q4\n",
    "num=int(input(\"enter number  \"))\n",
    "na=[]\n",
    "for i in range(num):\n",
    "    if num >= 10:\n",
    "        print('oops num is greater then 10')\n",
    "        break\n",
    "    else:\n",
    "        name=input('enter name: ')\n",
    "        na.append(name)\n",
    "\n",
    "for i in na:\n",
    "    print()\n",
    "    print(f'{i} has been invited')"
   ]
  },
  {
   "cell_type": "markdown",
   "id": "f4c9a8d0",
   "metadata": {},
   "source": [
    "# Practicing While Loop"
   ]
  },
  {
   "cell_type": "markdown",
   "id": "760771b2",
   "metadata": {},
   "source": [
    "1- Set the total to 0 to start with. While the total is 50 or less, ask the user to input a number. Add that number to the total and print the message “The total is… [total]”. Stop the loop when the total is over 50.\n",
    "\n",
    "2- Ask the user to enter a number and then enter another number. Add these two numbers together and then ask if they want to add another number. If they enter “y\", ask them to enter another number and keep adding numbers until they do not answer “y”. Once the loop has stopped, display the total.\n",
    "\n",
    "3- Ask the user to enter a number between 10 and 20. If they enter a value under 10, display the message “Too low” and ask them to try again. If they enter a value above 20, display the message “Too high” and ask them to try again. Keep repeating this until they enter a value that is between 10 and 20 and then display the message “Thank you”.\n",
    "\n",
    "4- Ask the user to enter a number. Keep asking until they enter a value over 5 and then display the message “The last number you entered was a [number]” and stop the program."
   ]
  },
  {
   "cell_type": "code",
   "execution_count": 21,
   "id": "afc1792a",
   "metadata": {},
   "outputs": [
    {
     "name": "stdout",
     "output_type": "stream",
     "text": [
      "enter number 43\n",
      "\n",
      "the total is  43\n",
      "enter number 3\n",
      "\n",
      "the total is  46\n",
      "enter number 2\n",
      "\n",
      "the total is  48\n",
      "enter number 1\n",
      "\n",
      "the total is  49\n",
      "enter number 5\n",
      "\n",
      "the total is  54\n"
     ]
    }
   ],
   "source": [
    "#Q1\n",
    "az=0\n",
    "while az<=50:\n",
    "    num=int(input(\"enter number \"))\n",
    "    az=az+num\n",
    "    print()\n",
    "    print(\"the total is \",az)\n",
    "    \n",
    "    "
   ]
  },
  {
   "cell_type": "code",
   "execution_count": 23,
   "id": "3c352c48",
   "metadata": {},
   "outputs": [
    {
     "name": "stdout",
     "output_type": "stream",
     "text": [
      "enter number1 7\n",
      "enter number2 9\n",
      "enter Y to add number and N for Noy\n",
      "enter number 4\n",
      "enter Y to add number and N for Noy\n",
      "enter number 12\n",
      "enter Y to add number and N for Noy\n",
      "enter number 19\n",
      "enter Y to add number and N for Non\n",
      "the total is  51\n"
     ]
    }
   ],
   "source": [
    "#Q2\n",
    "number=0\n",
    "num1=int(input(\"enter number1 \"))\n",
    "num2=int(input(\"enter number2 \"))\n",
    "total=num1+num2\n",
    "while True:\n",
    "    z=input('enter Y to add number and N for No').lower()\n",
    "    if z !='y':\n",
    "        break\n",
    "    else:\n",
    "        num=int(input(\"enter number \"))\n",
    "        total=total+num\n",
    "print(\"the total is \",total)"
   ]
  },
  {
   "cell_type": "code",
   "execution_count": 40,
   "id": "0e9691e0",
   "metadata": {},
   "outputs": [
    {
     "name": "stdout",
     "output_type": "stream",
     "text": [
      "enter number between 10 and 20 2\n",
      "to low try again\n",
      "enter number between 10 and 20 44\n",
      "to high try again\n",
      "enter number between 10 and 20 12\n",
      "Thank you\n"
     ]
    }
   ],
   "source": [
    "#Q3\n",
    "while True:\n",
    "    num1=int(input(\"enter number between 10 and 20 \"))\n",
    "    if num1<10:\n",
    "        print(\"to low try again\")\n",
    "    elif num1>20:\n",
    "        print('to high try again')\n",
    "    else:\n",
    "        print(\"Thank you\")\n",
    "        break\n",
    "\n"
   ]
  },
  {
   "cell_type": "code",
   "execution_count": 41,
   "id": "53c8aa2d",
   "metadata": {},
   "outputs": [
    {
     "name": "stdout",
     "output_type": "stream",
     "text": [
      "enter number less then 5 2\n",
      "enter number less then 5 2\n",
      "enter number less then 5 3\n",
      "enter number less then 5 4\n",
      "enter number less then 5 6\n",
      "The last number you entered was a 6\n"
     ]
    }
   ],
   "source": [
    "#Q4\n",
    "while True:\n",
    "    num1=int(input(\"enter number less then 5 \"))\n",
    "    if num1<5:\n",
    "        pass\n",
    "    else:\n",
    "        print(f'The last number you entered was a {num1}')\n",
    "        break"
   ]
  },
  {
   "cell_type": "code",
   "execution_count": null,
   "id": "10a49973",
   "metadata": {},
   "outputs": [],
   "source": []
  }
 ],
 "metadata": {
  "kernelspec": {
   "display_name": "Python 3",
   "language": "python",
   "name": "python3"
  },
  "language_info": {
   "codemirror_mode": {
    "name": "ipython",
    "version": 3
   },
   "file_extension": ".py",
   "mimetype": "text/x-python",
   "name": "python",
   "nbconvert_exporter": "python",
   "pygments_lexer": "ipython3",
   "version": "3.8.8"
  }
 },
 "nbformat": 4,
 "nbformat_minor": 5
}
